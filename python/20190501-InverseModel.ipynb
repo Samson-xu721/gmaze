{
 "cells": [
  {
   "cell_type": "markdown",
   "metadata": {},
   "source": [
    "# Demonstrate linear inverse model for the heat budget\n",
    "\n",
    "Horizontal heat transports are non-linear terms if one assume that both temperatures and velocities have to be optimized. In order to keep the model as simple as possible, we hypothesized that only velocities require optimization. In other word, we assumed that between temperatures and circulation, the former is the best known. Doing so, heat transport terms are linear with regard to the optimization procedure.\n",
    "\n",
    "## Inversion procedure used to optimized parameters of the model\n",
    "\n",
    "The procedure presented here is for a linear model, the reader is referred to \\citet{tarantola-1982} and \\citet{mercier-1986} for further details on a non-linear formulation.\n",
    "\n",
    "Let $\\mathbf{X}=\\{X^1,...,X^M\\}$ refers to the finite set of $M$ parameters needed to describe the system such as velocity, fluxes or tracer concentrations. A physical model will impose $N$ constraints on the possible values of $\\mathbf{X}$ which can take the functional form:\n",
    "\\begin{eqnarray*}\n",
    "\tf^1(X^1,...,X^M) &=& 0 \\\\\n",
    "\tf^2(X^1,...,X^M) &=& 0 \\\\\n",
    "\t...&& \\\\\n",
    "\tf^N(X^1,...,X^M) &=& 0\n",
    "\\end{eqnarray*}\n",
    "\n",
    "Let $\\mathbf{X_0}$ be an \\apri state of information of the model parameters $\\mathbf{X}$ and $\\mathbf{E_0}$ the associated error covariance matrix. We refer to the information after inversion as the \\apost or optimized state. The constraints take values $f(\\mathbf{X})$ at $\\mathbf{X}$ and their error covariance matrix is denoted as $\\mathbf{E_c}$. The optimization procedure minimizes the following function:\n",
    "\\begin{equation}\n",
    "\t(\\mathbf{X-X_0})^T \\cdot \\mathbf{E_0}^{-1} \\cdot (\\mathbf{X-X_0})\n",
    "\t+  f(\\mathbf{X})^T \\cdot \\mathbf{E_c}^{-1} \\cdot f(\\mathbf{X}) \\label{eq:costfunction}\n",
    "\\end{equation}\n",
    "where the subscript $T$ indicates a transpose operator. The first term is the squared distance between the \\apri and \\apost estimates of the parameters while the second term is the constraints residual weighted by their errors. \n",
    "\n",
    "The best estimate $\\mathbf{X^*}$ and its error covariance matrix $\\mathbf{E^*}$ are given uniquely by:\n",
    "    \\begin{eqnarray}\n",
    "        \\mathbf{X^*} &=& \\mathbf{X_0} - \\mathbf{Q} \\cdot f(\\mathbf{X_0}) \\label{eq:Xstar} \\\\\n",
    "        \\mathbf{E^*} &=& \\mathbf{E_0} - \\mathbf{Q} \\cdot \\mathbf{F} \\cdot \\mathbf{E_0} \\label{eq:Estar}\n",
    "    \\end{eqnarray}\n",
    "where $\\mathbf{F}$ is the model matrix of partial derivatives (model jacobian)\n",
    "    \\begin{eqnarray}\n",
    "        \\mathbf{F}^{ij} = \\frac{\\partial f^i}{\\partial \\mathbf{X}^j}\n",
    "    \\end{eqnarray}\n",
    "and the matrix $\\mathbf{Q}$ is given by:\n",
    "    \\begin{eqnarray}\n",
    "        \\mathbf{Q} &=& \\mathbf{E_0} \\cdot \\mathbf{F}^T \\cdot \\left( \\mathbf{F} \\cdot \\mathbf{E_0} \\cdot \\mathbf{F}^T + \\mathbf{E_c}  \\right)^{-1} \\label{eq:Q}\n",
    "    \\end{eqnarray}\n",
    "\n",
    "## Our model\n",
    "\n",
    "The volume conservation equation is given by the domain convergence of volume fluxes:\n",
    "\\begin{eqnarray}\n",
    "    \\nabla U^i + \\nabla U_e &=& r\\\\\n",
    "    U^i &=& U^i_g + U^i_c\n",
    "\\end{eqnarray}\n",
    "where the $U^i$ are geostrophic volume fluxes ($m^3/s$) through each faces of the domain, $U_e$ Ekman volume fluxes and $r$ the residuals. The total geostrophic terms are decomposed into an observation-based estime $U^i_g$ and a correction term $U^i_c$ so that the first model constraint is:\n",
    "\\begin{eqnarray}\n",
    "    \\nabla U^i_c &=& r - \\nabla U_e - \\nabla U^i_g\n",
    "\\end{eqnarray}\n",
    "\n",
    "Then for the heat budget, the domain heat content rate of change is:\n",
    "\\begin{eqnarray}\n",
    "    \\partial_t OHC + \\nabla U^i \\theta^i + \\nabla U_e \\theta_s &=& \\frac{Q_{net}}{\\rho_0 C_p} \n",
    "\\end{eqnarray}\n",
    "so that in terms of volume flux constraints it can be re-written as:\n",
    "\\begin{eqnarray}\n",
    "     \\nabla U^i_c \\theta^i &=& \\frac{Q_{net}}{\\rho_0 C_p} - \\nabla U_e \\theta_s - \\partial_t OHC - \\nabla U^i_g \\theta^i\\\\\n",
    "\\end{eqnarray}\n",
    "\n",
    "The model is linear and simple: $f(\\mathbf{X}) = \\mathbf{A}\\mathbf{X}$ in matrix form. When constraint should be satisfied:\n",
    "\\begin{eqnarray}\n",
    "    \\mathbf{A} \\mathbf{X} &=& 0\n",
    "\\end{eqnarray}\n",
    "with the (2,4) model matrix $\\mathbf{A}$ :\n",
    "\\begin{eqnarray}\n",
    "    \\mathbf{A} &=\n",
    "        \\begin{pmatrix} \n",
    "            1 & -1 & -1 & 1 \\\\\n",
    "            \\theta^w & -\\theta^e & -\\theta^n & \\theta^s \n",
    "        \\end{pmatrix}\n",
    "\\end{eqnarray}\n",
    "and the (4,1) state vector $\\mathbf{X}$:\n",
    "\\begin{eqnarray}\n",
    "    \\mathbf{X} &=\n",
    "        \\begin{pmatrix} \n",
    "            U_c^w \\\\ U_c^e \\\\ U_c^s \\\\ U_c^n\n",
    "        \\end{pmatrix}\n",
    "\\end{eqnarray}\n",
    "where volume fluxes are positive eastward or northward.\n",
    "\n",
    "The model jacobian $\\mathbf{F}$ is in this trivial linear case simply given by $\\mathbf{A}$.\n",
    "    \n",
    "The a priori constraint residual is thus given by:\n",
    "\\begin{eqnarray}\n",
    "    \\mathbf{R} &=\n",
    "        \\begin{pmatrix} \n",
    "            r - \\nabla U_e - \\nabla U^i_g \\\\\n",
    "            \\frac{Q_{net}}{\\rho_0 C_p} - \\nabla U_e \\theta_s - \\partial_t OHC - \\nabla U^i_g \\theta^i \n",
    "        \\end{pmatrix}\n",
    "\\end{eqnarray}\n",
    "\n",
    "So that the a priori (and unsatisfied) model state constraints are:\n",
    "\\begin{eqnarray}\n",
    "    \\mathbf{A} \\mathbf{X_0} &=& \\mathbf{R}\n",
    "\\end{eqnarray}\n",
    "\n",
    "Once optimised, we'll get $U^i_c$ to but this down to 0:\n",
    "\\begin{eqnarray}\n",
    "    \\mathbf{A} \\mathbf{X^*} &=& 0\n",
    "\\end{eqnarray}\n",
    "where $\\mathbf{X^*}$ was given in the 1st section.    \n",
    "\n",
    "\n",
    "## Matlab code\n",
    "The point is to convert in python this Matlab peace of code from my toolbox and tia_nl.m:\n",
    "\n",
    "\t\t%-- SOLVE A LINEAR MODEL\n",
    "\t\tdisp('TIA_NL MESSAGE: THIS MODEL IS LINEAR')\n",
    "\t\t\t\n",
    "\t\tjac = jacob(Jeval,X0,varargin{:});\t\t\t\n",
    "\t\tQ   = E0 * jac' * inv(jac * E0 * jac' + Ec);\n",
    "\t\txs  = x0 - Q*f(C,X0,varargin{:}); % Optimized parameters\n",
    "\t\tes  = diag(E0 - Q * jac * E0); % Errors\n",
    "\t\t\n",
    "\t\tXstar = X0;\n",
    "\t\tfor ix = 1 : size(Xstar,1)\n",
    "\t\t\tXstar(ix,3) = {xs(ix)};\n",
    "\t\t\tXstar(ix,4) = {sqrt(es(ix))};\n",
    "\t\tend%for ix\n",
    "\t\tXstar_lin = Xstar;\n",
    "\t\tk = 1;\n",
    "\t\t\n",
    "\t\t% EVALUTE COST FUNCTION TERMS:\n",
    "\t\tcost(1,1) = (xs-x0)' * inv(E0) * (xs-x0);\n",
    "\t\tcost(1,2) = f(Meval,Xstar,varargin{:})' * inv(Ec) * f(Meval,Xstar,varargin{:});\n",
    "\t\t"
   ]
  },
  {
   "cell_type": "code",
   "execution_count": 2,
   "metadata": {},
   "outputs": [],
   "source": [
    "import numpy as np"
   ]
  },
  {
   "cell_type": "markdown",
   "metadata": {},
   "source": [
    "## Define problem variables"
   ]
  },
  {
   "cell_type": "markdown",
   "metadata": {},
   "source": [
    "### State vector $\\mathbf{X}$ and its a priori errors $\\mathbf{E}_0$\n",
    "\n",
    "Volume fluxes are in Sverdrup, positive eastward & northward\n"
   ]
  },
  {
   "cell_type": "code",
   "execution_count": 5,
   "metadata": {},
   "outputs": [
    {
     "name": "stdout",
     "output_type": "stream",
     "text": [
      "State vector has shape: (4, 1) and values:\n",
      "[[ 1.]\n",
      " [ 1.]\n",
      " [-1.]\n",
      " [ 1.]]\n",
      "State vector co-variance error matrix has shape: (4, 4) and values:\n",
      "[[0.04 0.   0.   0.  ]\n",
      " [0.   0.04 0.   0.  ]\n",
      " [0.   0.   0.04 0.  ]\n",
      " [0.   0.   0.   0.04]]\n"
     ]
    }
   ],
   "source": [
    "X = np.zeros((4,1))\n",
    "# X[:,0] = [43,14,-13,18] # West, East, South, North\n",
    "X[:,0] = [1,1,-1,1] # West, East, South, North\n",
    "print(\"State vector has shape:\", X.shape, \"and values:\") # must be 4,1\n",
    "print(X)\n",
    "\n",
    "# Set errors to a % relative value:\n",
    "s = 20/100. # 20% error on all volume fluxes\n",
    "E = np.zeros((4,4))\n",
    "for i in range(0,4):\n",
    "    E[i,i] = (s*np.abs(X[i,0]))**2 # Take the square because E is the error co-variance matrix and it scales as X^2\n",
    "print(\"State vector co-variance error matrix has shape:\", E.shape, \"and values:\") # must be 4,4\n",
    "print(E)"
   ]
  },
  {
   "cell_type": "markdown",
   "metadata": {},
   "source": [
    "### Model matrix $\\mathbf{A}$, jacobian and constraint errors $\\mathbf{E}_c$"
   ]
  },
  {
   "cell_type": "code",
   "execution_count": 9,
   "metadata": {},
   "outputs": [
    {
     "name": "stdout",
     "output_type": "stream",
     "text": [
      "Temperature vector has shape: (4, 1) and values:\n",
      "[[16.1]\n",
      " [13.5]\n",
      " [16.4]\n",
      " [ 9. ]]\n"
     ]
    }
   ],
   "source": [
    "# Mean face temperatures:\n",
    "Temp = np.zeros((4,1))\n",
    "Temp[:,0] = [16.1,13.5,16.4,9.] # West, East, South, North\n",
    "print(\"Temperature vector has shape:\", Temp.shape, \"and values:\") # must be 4,1\n",
    "print(Temp)"
   ]
  },
  {
   "cell_type": "code",
   "execution_count": 10,
   "metadata": {},
   "outputs": [
    {
     "name": "stdout",
     "output_type": "stream",
     "text": [
      "Model matrix A has shape: (2, 4) and values:\n",
      "[[  1.   -1.   -1.    1. ]\n",
      " [ 16.1 -13.5 -16.4   9. ]]\n"
     ]
    }
   ],
   "source": [
    "# Model matrix:\n",
    "A = np.zeros((2,4))\n",
    "A[0,:] = [1,-1,-1,1] # Volume constraint (Sv)\n",
    "A[1,:] = np.diag(Temp*np.array(([1,-1,-1,1]))) # Heat constraint (Sv*degC)\n",
    "print(\"Model matrix A has shape:\", A.shape, \"and values:\") # must be 2,4\n",
    "print(A)"
   ]
  },
  {
   "cell_type": "code",
   "execution_count": 31,
   "metadata": {},
   "outputs": [
    {
     "name": "stdout",
     "output_type": "stream",
     "text": [
      "A priori constraint residuals:\n",
      " [[ 2.]\n",
      " [28.]]\n",
      "Constraints error co-variance matrix has shape: (2, 2) and values:\n",
      "[[  1.   0.]\n",
      " [  0. 100.]]\n"
     ]
    }
   ],
   "source": [
    "# A priori constraint residuals:\n",
    "print(\"A priori constraint residuals:\\n\", A.dot(X))\n",
    "\n",
    "# Constraint errors:\n",
    "Ec = np.zeros((2,2))\n",
    "Ec[0,0] = 1**2 # Volume constraint residual squared error in [Sv]^2\n",
    "Ec[1,1] = 10**2 # Heat constraint residual  squared error in [Sv*degC]^2\n",
    "print(\"Constraints error co-variance matrix has shape:\", Ec.shape, \"and values:\") # must be 2,2\n",
    "print(Ec)"
   ]
  },
  {
   "cell_type": "markdown",
   "metadata": {},
   "source": [
    "## Solve the inverse problem"
   ]
  },
  {
   "cell_type": "code",
   "execution_count": 32,
   "metadata": {},
   "outputs": [],
   "source": [
    "# Put solver into a function\n",
    "def tia_lin(X0,E0,Ec,A):\n",
    "    # Solve:\n",
    "    J = A # The model jacobian is A in the linear case\n",
    "    Q = (E0.dot(J.T)).dot( np.linalg.inv((J.dot(E0)).dot(J.T) + Ec) )\n",
    "    # Final state:\n",
    "    Xs = X0 - Q.dot(A.dot(X0))\n",
    "    Es = E0 - (Q.dot(J)).dot(E0)\n",
    "    return Xs,Es\n",
    "\n",
    "# Solve it:\n",
    "X0 = X\n",
    "E0 = E\n",
    "Xs, Es = tia_lin(X0,E0,Ec,A)"
   ]
  },
  {
   "cell_type": "markdown",
   "metadata": {},
   "source": [
    "## Compare a priori with optimised state"
   ]
  },
  {
   "cell_type": "code",
   "execution_count": 26,
   "metadata": {},
   "outputs": [
    {
     "name": "stdout",
     "output_type": "stream",
     "text": [
      "Initial state vector:\n",
      " [[ 1.  1. -1.  1.]]\n",
      "Optimised state vector:\n",
      " [[ 0.82315573  1.15709661 -0.82087716  0.87708201]]\n"
     ]
    }
   ],
   "source": [
    "# State vectors:\n",
    "print(\"Initial state vector:\\n\",X0.T)\n",
    "print(\"Optimised state vector:\\n\",Xs.T)"
   ]
  },
  {
   "cell_type": "code",
   "execution_count": 27,
   "metadata": {},
   "outputs": [
    {
     "name": "stdout",
     "output_type": "stream",
     "text": [
      "Initial state vector errors:\n",
      " [0.2 0.2 0.2 0.2]\n",
      "Optimised state vector errors:\n",
      " [0.18997044 0.19217409 0.18968574 0.19490357]\n"
     ]
    }
   ],
   "source": [
    "# State vectors error:\n",
    "print(\"Initial state vector errors:\\n\",np.sqrt(np.diag(E0)))\n",
    "print(\"Optimised state vector errors:\\n\",np.sqrt(np.diag(Es)))"
   ]
  },
  {
   "cell_type": "code",
   "execution_count": 28,
   "metadata": {},
   "outputs": [
    {
     "name": "stdout",
     "output_type": "stream",
     "text": [
      "A priori constraint residuals:\n",
      " [[ 2.]\n",
      " [28.]]\n",
      "Optimised constraint residuals:\n",
      " [[ 1.36401829]\n",
      " [18.98812652]]\n"
     ]
    }
   ],
   "source": [
    "# Constraint residuals:\n",
    "print(\"A priori constraint residuals:\\n\", A.dot(X0))\n",
    "print(\"Optimised constraint residuals:\\n\",A.dot(Xs))"
   ]
  },
  {
   "cell_type": "code",
   "execution_count": null,
   "metadata": {},
   "outputs": [],
   "source": []
  }
 ],
 "metadata": {
  "kernelspec": {
   "display_name": "obidam36",
   "language": "python",
   "name": "obidam36"
  },
  "language_info": {
   "codemirror_mode": {
    "name": "ipython",
    "version": 3
   },
   "file_extension": ".py",
   "mimetype": "text/x-python",
   "name": "python",
   "nbconvert_exporter": "python",
   "pygments_lexer": "ipython3",
   "version": "3.6.7"
  }
 },
 "nbformat": 4,
 "nbformat_minor": 2
}
